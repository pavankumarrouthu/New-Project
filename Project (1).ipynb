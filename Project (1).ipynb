{
  "nbformat": 4,
  "nbformat_minor": 0,
  "metadata": {
    "colab": {
      "private_outputs": true,
      "provenance": []
    },
    "kernelspec": {
      "name": "python3",
      "display_name": "Python 3"
    },
    "language_info": {
      "name": "python"
    }
  },
  "cells": [
    {
      "cell_type": "code",
      "execution_count": null,
      "metadata": {
        "id": "LhHzN0SblPeJ"
      },
      "outputs": [],
      "source": [
        "# Step 1: Import necessary libraries\n",
        "\n",
        "import pandas as pd\n",
        "\n",
        "from sklearn.model_selection import train_test_split\n",
        "\n",
        "from sklearn.ensemble import RandomForestClassifier\n",
        "\n",
        "from sklearn.metrics import accuracy_score, precision_score, f1_score"
      ]
    },
    {
      "cell_type": "code",
      "source": [
        "# Step 2: Load and preprocess the dataset\n",
        "\n",
        "# Replace 'your_dataset_url' with the actual URL of your dataset\n",
        "\n",
        "dataset_url = '/content/archive.zip'\n",
        "\n",
        "df = pd.read_csv(dataset_url)"
      ],
      "metadata": {
        "id": "GlBGFZDplfI2"
      },
      "execution_count": null,
      "outputs": []
    },
    {
      "cell_type": "code",
      "source": [
        "# Assuming the target column is named 'target', and features are all other columns\n",
        "\n",
        "X = df.drop('target', axis=1)\n",
        "\n",
        "y = df['target']"
      ],
      "metadata": {
        "id": "D3V45cWXm2KQ"
      },
      "execution_count": null,
      "outputs": []
    },
    {
      "cell_type": "code",
      "source": [
        "# Split the data into training and testing sets\n",
        "\n",
        "X_train, X_test, y_train, y_test = train_test_split(X, y, test_size=0.4, random_state=42)\n",
        "\n"
      ],
      "metadata": {
        "id": "qSCIpy8um7e0"
      },
      "execution_count": null,
      "outputs": []
    },
    {
      "cell_type": "code",
      "source": [
        "# Step 3: Train Random Forest Classifier\n",
        "\n",
        "rf_classifier = RandomForestClassifier(n_estimators=100, random_state=42)\n",
        "\n",
        "rf_classifier.fit(X_train, y_train)\n",
        "\n",
        "rf_predictions = rf_classifier.predict(X_test)\n",
        "\n"
      ],
      "metadata": {
        "id": "ErEr7L3Mm-ZT"
      },
      "execution_count": null,
      "outputs": []
    },
    {
      "cell_type": "code",
      "source": [
        "# Step 4: Evaluate and print metrics for Random Forest\n",
        "\n",
        "rf_accuracy = accuracy_score(y_test, rf_predictions)\n",
        "\n",
        "rf_precision = precision_score(y_test, rf_predictions)\n",
        "\n",
        "rf_f1 = f1_score(y_test, rf_predictions)\n",
        "\n"
      ],
      "metadata": {
        "id": "glEUR9v6nA3m"
      },
      "execution_count": null,
      "outputs": []
    },
    {
      "cell_type": "code",
      "source": [
        "print(\"Random Forest Metrics:\")\n",
        "\n",
        "print(\"Accuracy:\", rf_accuracy)\n",
        "\n",
        "print(\"Precision:\", rf_precision)\n",
        "\n",
        "print(\"F1 Score:\", rf_f1)"
      ],
      "metadata": {
        "id": "YxU_bLiknQxD"
      },
      "execution_count": null,
      "outputs": []
    },
    {
      "cell_type": "code",
      "source": [
        "# prompt: implementation of random forest\n",
        "\n",
        "# Import necessary libraries\n",
        "import pandas as pd\n",
        "from sklearn.model_selection import train_test_split\n",
        "from sklearn.ensemble import RandomForestClassifier\n",
        "from sklearn.metrics import accuracy_score, precision_score, f1_score\n",
        "\n",
        "# Step 1: Load and preprocess the dataset\n",
        "\n",
        "# Replace 'your_dataset_url' with the actual URL of your dataset\n",
        "dataset_url = '/content/archive.zip'\n",
        "\n",
        "df = pd.read_csv(dataset_url)\n",
        "# Assuming the target column is named 'target', and features are all other columns\n",
        "X = df.drop('target', axis=1)\n",
        "y = df['target']\n",
        "\n",
        "# Split the data into training and testing sets\n",
        "X_train, X_test, y_train, y_test = train_test_split(X, y, test_size=0.4, random_state=42)\n",
        "\n",
        "# Step 2: Train Random Forest Classifier\n",
        "rf_classifier = RandomForestClassifier(n_estimators=100, random_state=42)\n",
        "rf_classifier.fit(X_train, y_train)\n",
        "\n",
        "# Step 3: Evaluate and print metrics for Random Forest\n",
        "rf_predictions = rf_classifier.predict(X_test)\n",
        "rf_accuracy = accuracy_score(y_test, rf_predictions)\n",
        "rf_precision = precision_score(y_test, rf_predictions)\n",
        "rf_f1 = f1_score(y_test, rf_predictions)\n",
        "\n",
        "print(\"Random Forest Metrics:\")\n",
        "print(\"Accuracy:\", rf_accuracy)\n",
        "print(\"Precision:\", rf_precision)\n",
        "print(\"F1 Score:\", rf_f1)\n"
      ],
      "metadata": {
        "id": "NMMMfypI5Q0Q"
      },
      "execution_count": null,
      "outputs": []
    }
  ]
}